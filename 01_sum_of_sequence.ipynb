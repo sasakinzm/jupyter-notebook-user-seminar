{
 "cells": [
  {
   "cell_type": "markdown",
   "metadata": {},
   "source": [
    "# 数列の和について考える\n",
    "\n",
    "### まず数列とは何か？\n",
    "---\n",
    "**「数列」**とは、文字通り**「数の列」**そのものをひとまとめにして考えたもの。  \n",
    "ただ漫然と並べただけでなく、**「順番に意味がある」**ような数字の並びを数列という。  \n",
    "例えば、つぎのような２つの数の並びは、数列としては異なる。\n",
    "<br>\n",
    "<br>\n",
    "数列A : 1, 2, 3, 4, 5, 6, 7, 8, 9, 10  \n",
    "数列B : 1, 2, 3, <font color=\"Red\">5</font>, <font color=\"Red\">4</font>, 6, 7, 8, 9, 10"
   ]
  },
  {
   "cell_type": "markdown",
   "metadata": {},
   "source": [
    "### Pythonでどう表すか?\n",
    "---\n",
    "こういった性質は、Pythonでは**リスト**を使えばうまく表現できそう。  \n",
    "なので、ここでは数列はリストで表現するものとして話を進める。"
   ]
  },
  {
   "cell_type": "code",
   "execution_count": 6,
   "metadata": {},
   "outputs": [],
   "source": [
    "A = [1, 2, 3, 4, 5, 6, 7, 8, 9, 10]\n",
    "B = [1, 2, 3, 5, 4, 6, 7, 8, 9, 10]"
   ]
  },
  {
   "cell_type": "code",
   "execution_count": 7,
   "metadata": {},
   "outputs": [
    {
     "data": {
      "text/plain": [
       "False"
      ]
     },
     "execution_count": 7,
     "metadata": {},
     "output_type": "execute_result"
    }
   ],
   "source": [
    "A == B"
   ]
  },
  {
   "cell_type": "code",
   "execution_count": null,
   "metadata": {},
   "outputs": [],
   "source": []
  }
 ],
 "metadata": {
  "kernelspec": {
   "display_name": "Python 3",
   "language": "python",
   "name": "python3"
  },
  "language_info": {
   "codemirror_mode": {
    "name": "ipython",
    "version": 3
   },
   "file_extension": ".py",
   "mimetype": "text/x-python",
   "name": "python",
   "nbconvert_exporter": "python",
   "pygments_lexer": "ipython3",
   "version": "3.6.2"
  }
 },
 "nbformat": 4,
 "nbformat_minor": 2
}
