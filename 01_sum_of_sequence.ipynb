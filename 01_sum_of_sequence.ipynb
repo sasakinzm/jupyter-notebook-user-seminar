{
 "cells": [
  {
   "cell_type": "markdown",
   "metadata": {
    "slideshow": {
     "slide_type": "slide"
    }
   },
   "source": [
    "# 数列の和について考える ~ $Σ$ を克服する ~ \n",
    "---"
   ]
  },
  {
   "cell_type": "markdown",
   "metadata": {
    "slideshow": {
     "slide_type": "slide"
    }
   },
   "source": [
    "$Σ$記号は連続して並ぶ数の和、すなわち数列の和を表します。  \n",
    "なので、まずは数列を Pythonで表現することを考えます。"
   ]
  },
  {
   "cell_type": "markdown",
   "metadata": {
    "slideshow": {
     "slide_type": "slide"
    }
   },
   "source": [
    "### [復習] そもそも数列とは何か？\n",
    "<u>数列の定義</u>  \n",
    "**「数列」**とは、単に文字通り**「数の並んだもの」**そのものをひとまとめにして考えたもの。  \n",
    "ただ漫然と並べただけでなく、**「順番に意味がある」**ような数字の並びを数列という。  \n",
    "<br>\n",
    "例えば、つぎのような２つの数の並びは、数列としては異なる。\n",
    "<br>\n",
    "数列A : $1, 2, 3, 4, 5, 6, 7, 8, 9, 10$  \n",
    "数列B : $1, 2, 3,$ <font color=\"Red\">$5$</font>$,$ <font color=\"Red\">$4$</font>$, 6, 7, 8, 9, 10$\n",
    "\n",
    "---"
   ]
  },
  {
   "cell_type": "markdown",
   "metadata": {
    "slideshow": {
     "slide_type": "slide"
    }
   },
   "source": [
    "### ★★Pythonでどう表すか?\n",
    "こういった性質は、Pythonでは**リスト**を使えばうまく表現できそう。  \n",
    "なので、ここでは数列はリストで表現するものとして話を進める。"
   ]
  },
  {
   "cell_type": "code",
   "execution_count": 4,
   "metadata": {
    "slideshow": {
     "slide_type": "-"
    }
   },
   "outputs": [],
   "source": [
    "A = [1, 2, 3, 4, 5, 6, 7, 8, 9, 10]\n",
    "B = [1, 2, 3, 5, 4, 6, 7, 8, 9, 10]"
   ]
  },
  {
   "cell_type": "code",
   "execution_count": 5,
   "metadata": {
    "slideshow": {
     "slide_type": "-"
    }
   },
   "outputs": [
    {
     "data": {
      "text/plain": [
       "False"
      ]
     },
     "execution_count": 5,
     "metadata": {},
     "output_type": "execute_result"
    }
   ],
   "source": [
    "A == B   # ２つの数列は異なる"
   ]
  },
  {
   "cell_type": "code",
   "execution_count": null,
   "metadata": {
    "slideshow": {
     "slide_type": "subslide"
    }
   },
   "outputs": [],
   "source": [
    "print(A[0])   # 数列Aの初項は1\n",
    "print(B[9])   # 数列Bの第１０項は10"
   ]
  },
  {
   "cell_type": "markdown",
   "metadata": {
    "slideshow": {
     "slide_type": "slide"
    }
   },
   "source": [
    "数学では数列の項は、添え字付きの小文字アルファベットで表記することが多い。"
   ]
  },
  {
   "cell_type": "markdown",
   "metadata": {
    "slideshow": {
     "slide_type": "slide"
    }
   },
   "source": [
    "$a_1 = A[0] ,  a_2 = A[1], a_3 = A[2], ・・・, a_{10} = A[9] $"
   ]
  },
  {
   "cell_type": "markdown",
   "metadata": {
    "slideshow": {
     "slide_type": "slide"
    }
   },
   "source": [
    "### 数列の和\n",
    "---\n"
   ]
  },
  {
   "cell_type": "markdown",
   "metadata": {
    "slideshow": {
     "slide_type": "slide"
    }
   },
   "source": [
    "数列Aのある項からある項までを順に足し合わした結果をPythonでどう書けば良いか？  \n",
    "→<b>for文を使えば良い。</b>"
   ]
  },
  {
   "cell_type": "code",
   "execution_count": null,
   "metadata": {
    "slideshow": {
     "slide_type": "slide"
    }
   },
   "outputs": [],
   "source": [
    "def sum(A, i, j):\n",
    "    \"\"\"数列(sequence)の第i項から第j項までを順に足し合わせる\"\"\"\n",
    "    result = 0\n",
    "    for k in range(i-1,j):\n",
    "        result += A[k]\n",
    "    return result"
   ]
  },
  {
   "cell_type": "code",
   "execution_count": null,
   "metadata": {
    "slideshow": {
     "slide_type": "slide"
    }
   },
   "outputs": [],
   "source": [
    "print(sum(A, 1, 10))   # 数列Aの全ての項を足し合わせる\n",
    "print(sum(B, 3, 8))     # 数列Aの第３項から第８項までを足し合わせる"
   ]
  },
  {
   "cell_type": "markdown",
   "metadata": {
    "slideshow": {
     "slide_type": "slide"
    }
   },
   "source": [
    "---"
   ]
  },
  {
   "cell_type": "markdown",
   "metadata": {
    "slideshow": {
     "slide_type": "slide"
    }
   },
   "source": [
    "上記のコードと全く同じことを数式で表記すると次のようになる。  \n",
    "## $$\\sum_{k=i}^j a_k$$  \n",
    "<b>コードと照らし合わせれば読めるはず！</b>\n"
   ]
  },
  {
   "cell_type": "markdown",
   "metadata": {
    "slideshow": {
     "slide_type": "slide"
    }
   },
   "source": [
    "次のような応用形も、何を意味しているかは、落ち着いてよーくよーく考えれば理解できる！！    \n",
    "（コードで書いてみよう！）\n",
    "#### $$\\sum_{k=1}^n (k^{3}+2k^5+10)　,　\\sum_{m=1}^n \\sum_{k=1}^l \\sum_{i=1}^ja_mb_kc_i　,　\\sum_{l=1}^m \\sum_{k=1}^l a_k$$"
   ]
  },
  {
   "cell_type": "markdown",
   "metadata": {
    "slideshow": {
     "slide_type": "slide"
    }
   },
   "source": [
    "$Σ$は慣れるまではなんだか恐ろしい感じがしますが、慣れるとややこしい表記を綺麗にすることで思考を助けてくれる強力なツールになるので、ぜひ慣れましょう！！"
   ]
  }
 ],
 "metadata": {
  "celltoolbar": "Slideshow",
  "kernelspec": {
   "display_name": "Python 3",
   "language": "python",
   "name": "python3"
  },
  "language_info": {
   "codemirror_mode": {
    "name": "ipython",
    "version": 3
   },
   "file_extension": ".py",
   "mimetype": "text/x-python",
   "name": "python",
   "nbconvert_exporter": "python",
   "pygments_lexer": "ipython3",
   "version": "3.6.2"
  }
 },
 "nbformat": 4,
 "nbformat_minor": 2
}
