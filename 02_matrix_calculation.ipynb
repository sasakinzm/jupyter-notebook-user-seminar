{
 "cells": [
  {
   "cell_type": "markdown",
   "metadata": {},
   "source": [
    "# 行列の計算をプログラミングしてみる\n",
    "---"
   ]
  },
  {
   "cell_type": "markdown",
   "metadata": {},
   "source": [
    "### [復習] そもそも行列とは何か？\n",
    "**「行列」**とは、単に**「数字を縦横に四角形に並べたもの」**をひとまとめにして考えたもの。（素朴な定義）  \n",
    "横の並びを**「行」**といい、縦の並びを**「列」**という。  \n",
    "（日常用語の行列とはイメージするものが異なる。）  \n",
    "以下のように、カッコでくくって表現することが多い。  \n",
    " \n",
    "$\n",
    "A = \n",
    "\\begin{bmatrix}\n",
    "3 & 15 & 2 \\\\\n",
    "4 & 2 & \\frac{3}{5} \\\\\n",
    "1 & 9 & 3 \\\\\n",
    "17 & 6 & 2\n",
    "\\end{bmatrix}\n",
    "$\n",
    "　,　\n",
    "$\n",
    "B = \\begin{bmatrix}\n",
    "1 & 2 & 3 & 4 & 5\n",
    "\\end{bmatrix}\n",
    "$\n",
    "　,　\n",
    "$\n",
    "C = \\begin{bmatrix}\n",
    "1 \\\\\n",
    "2 \\\\\n",
    "3 \\\\\n",
    "4 \\\\\n",
    "\\end{bmatrix}\n",
    "$\n",
    "　,　\n",
    "$\n",
    "D = \\begin{bmatrix}\n",
    "a_{11} & a_{12} \\\\\n",
    "a_{21} & a_{22} \n",
    "\\end{bmatrix}\n",
    "$\n",
    "<br>\n",
    "<br>\n",
    "ただ漫然と並べただけでなく、**「数字の配置されている場所」**に意味がある。\n",
    "\n",
    "---"
   ]
  },
  {
   "cell_type": "markdown",
   "metadata": {},
   "source": [
    "### Pythonでどう表すか?\n",
    "こういった性質は、Pythonでは**リストのリスト**を使えばうまく表現できそう。  \n",
    "なので、ここでは行列はリストのリストで表現するものとして話を進める。"
   ]
  },
  {
   "cell_type": "code",
   "execution_count": 4,
   "metadata": {},
   "outputs": [],
   "source": [
    "A = [[3, 15, 2], [4, 2, 3/5], [1, 9, 3], [17, 6, 2]]\n",
    "B = [[1, 2 , 3, 4, 5]]\n",
    "C = [[1], [2], [3], [4]]"
   ]
  },
  {
   "cell_type": "code",
   "execution_count": 11,
   "metadata": {},
   "outputs": [
    {
     "data": {
      "text/plain": [
       "1"
      ]
     },
     "execution_count": 11,
     "metadata": {},
     "output_type": "execute_result"
    }
   ],
   "source": [
    "# 行列Aの３行1列目の数字は？\n",
    "A[2][0]"
   ]
  },
  {
   "cell_type": "code",
   "execution_count": null,
   "metadata": {},
   "outputs": [],
   "source": []
  }
 ],
 "metadata": {
  "kernelspec": {
   "display_name": "Python 3",
   "language": "python",
   "name": "python3"
  },
  "language_info": {
   "codemirror_mode": {
    "name": "ipython",
    "version": 3
   },
   "file_extension": ".py",
   "mimetype": "text/x-python",
   "name": "python",
   "nbconvert_exporter": "python",
   "pygments_lexer": "ipython3",
   "version": "3.6.2"
  }
 },
 "nbformat": 4,
 "nbformat_minor": 2
}
