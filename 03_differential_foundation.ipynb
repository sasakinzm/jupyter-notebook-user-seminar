{
 "cells": [
  {
   "cell_type": "markdown",
   "metadata": {},
   "source": [
    "# 微分をPythonで理解する\n",
    "---"
   ]
  },
  {
   "cell_type": "markdown",
   "metadata": {},
   "source": [
    "#### 具体例で考える  \n",
    "次のような関数を例にして考える  \n",
    "## $$ f(x) = x^3 $$\n"
   ]
  },
  {
   "cell_type": "markdown",
   "metadata": {},
   "source": [
    "この関数はPythonで書くと、次のようになる"
   ]
  },
  {
   "cell_type": "code",
   "execution_count": null,
   "metadata": {},
   "outputs": [],
   "source": [
    "import numpy as np\n",
    "def f(x):\n",
    "    return x**3"
   ]
  },
  {
   "cell_type": "code",
   "execution_count": null,
   "metadata": {},
   "outputs": [],
   "source": [
    "print(f(1))    # 1の3乗\n",
    "print(f(2))    # 2の3乗\n",
    "print(f(-3))   # -3の3乗"
   ]
  },
  {
   "cell_type": "code",
   "execution_count": null,
   "metadata": {},
   "outputs": [],
   "source": [
    "# あるいは、次のようにlambda式を使っても書ける\n",
    "\n",
    "f = lambda x : x**3\n",
    "\n",
    "print(f(2))"
   ]
  },
  {
   "cell_type": "markdown",
   "metadata": {},
   "source": [
    "この関数のグラフをMatplotlibを使って描写できる"
   ]
  },
  {
   "cell_type": "code",
   "execution_count": null,
   "metadata": {},
   "outputs": [],
   "source": [
    "# その前に、Matplotlib の簡単な利用例\n",
    "# 要素数が等しい2つのリストをデータとして指定することで、そのデータをプロットしたり、それらを通るグラフを引ける\n",
    "\n",
    "import numpy as np                     # Numpyインポート\n",
    "import matplotlib.pyplot as plt        # Matplotlibインポート\n",
    "%matplotlib inline\n",
    "\n",
    "X = [1,2,3,4,5,6,7,8,9,10]\n",
    "Y = [2,4,6,8,10,12,14,16,18,20]\n",
    "plt.plot(X, Y,'o-')"
   ]
  },
  {
   "cell_type": "code",
   "execution_count": null,
   "metadata": {},
   "outputs": [],
   "source": [
    "# fのグラフを描写するためのdrawf関数を定義する\n",
    "\n",
    "def drawf(n):\n",
    "    \"\"\" 0～nまでの区間上に、fのグラフを描写する ＆ 0.1ごとに点を打つ \"\"\"\n",
    "    y = [f(x) for x in np.arange(0, n, 0.1)]\n",
    "    plt.plot(list(np.arange(0, n, 0.1)),y,'o-')\n",
    "    plt.grid()"
   ]
  },
  {
   "cell_type": "code",
   "execution_count": null,
   "metadata": {
    "scrolled": true
   },
   "outputs": [],
   "source": [
    "drawf(3)"
   ]
  },
  {
   "cell_type": "markdown",
   "metadata": {},
   "source": [
    "fのグラフの、点a(2,8)における接線をプログラミングで引くことを考える  \n",
    "(※正確には近似接線)  "
   ]
  },
  {
   "cell_type": "markdown",
   "metadata": {},
   "source": [
    "ここで一旦、目的の点aと、適当な点bの2点を通る直線を引くことを考える  \n",
    "これは簡単に引ける  \n",
    "勾配も間単に計算することができる"
   ]
  },
  {
   "cell_type": "code",
   "execution_count": null,
   "metadata": {},
   "outputs": [],
   "source": [
    "# 2つの点を通る直線を描写するためのmakeline関数を定義する\n",
    "\n",
    "def makeline(a, b, r=[0, 3]):\n",
    "    \"\"\" 2点 a, b を通る線分を描写する ＆ その直線の勾配を出力する \"\"\"\n",
    "    m = (a[1] - b[1]) / (a[0] - b[0])\n",
    "    n = -((a[1] - b[1]) / (a[0] - b[0])) * a[0] + a[1]\n",
    "    y = [m*x + n for x in r]\n",
    "    plt.plot(r,y)\n",
    "    print(\"勾配={0}\".format(m))"
   ]
  },
  {
   "cell_type": "code",
   "execution_count": null,
   "metadata": {},
   "outputs": [],
   "source": [
    "a=[2,8]\n",
    "b=[1,1]\n",
    "makeline(a, b)\n",
    "plt.scatter([a[0],b[0]], [a[1], b[1]])"
   ]
  },
  {
   "cell_type": "markdown",
   "metadata": {},
   "source": [
    "f(x)上の 2点a,bを決めて、直線を引いてみる  "
   ]
  },
  {
   "cell_type": "code",
   "execution_count": null,
   "metadata": {},
   "outputs": [],
   "source": [
    "a = lambda x: [x, f(x)]  # f(x)のグラフ上に点aを打つ関数を定義する\n",
    "b = lambda x: [x, f(x)]  # f(x)のグラフ上に点bを打つ関数を定義する\n",
    "drawf(3)\n",
    "makeline(a(2), b(0))"
   ]
  },
  {
   "cell_type": "markdown",
   "metadata": {},
   "source": [
    "点bをだんだん点aに近づけていって直線がどうなるか眺める  "
   ]
  },
  {
   "cell_type": "code",
   "execution_count": null,
   "metadata": {},
   "outputs": [],
   "source": [
    "drawf(3)\n",
    "makeline(a(2), b(0.1))"
   ]
  },
  {
   "cell_type": "code",
   "execution_count": null,
   "metadata": {},
   "outputs": [],
   "source": [
    "# 違う点の勾配も簡単にわかる\n",
    "drawf(3)\n",
    "makeline(a(2.5), b(2.49999999999))"
   ]
  },
  {
   "cell_type": "code",
   "execution_count": null,
   "metadata": {},
   "outputs": [],
   "source": [
    "# いろんな点の勾配の大きさを定量的に比較できる\n",
    "\n",
    "drawf(3)\n",
    "makeline(a(2), b(1.999999999999999))\n",
    "makeline(a(2.5), b(2.49999999999))"
   ]
  },
  {
   "cell_type": "markdown",
   "metadata": {},
   "source": [
    "こうやって求めた勾配の値を、点aでの<b>微分係数</b>という"
   ]
  },
  {
   "cell_type": "markdown",
   "metadata": {},
   "source": [
    "### 微分係数の定義における数式と見比べてみる  \n",
    "\n",
    "### $$ \"点aでの微分係数\" = \\lim_{b \\to a} \\frac{f(b)-f(a)}{b-a} $$  \n",
    "\n",
    "数学記号をつかっているだけで、やっていることは上のコードとだいたい同じ。(無限回の計算ができない) \n",
    "\n",
    "微分を利用すると、関数の中で、どのあたりが\"急勾配\"になっているかを調べることができる  \n"
   ]
  },
  {
   "cell_type": "markdown",
   "metadata": {},
   "source": [
    "# さらに\n",
    "点aを色々と変えてみて、微分係数を求めたいとする  \n",
    "点の場所を変えるごとに、いちいち上の同じような計算をやるのは面倒くさすぎる・・・  \n",
    "### <b>関数にすればいい!!</b>  "
   ]
  },
  {
   "cell_type": "code",
   "execution_count": null,
   "metadata": {},
   "outputs": [],
   "source": [
    "# fの勾配を求めたい点を変数とした、 differential_f 関数を定義する\n",
    "\n",
    "def differential_f(x):\n",
    "    drawf(x+2)\n",
    "    makeline(a(x), b(x - 0.0000001), [0, x+2])"
   ]
  },
  {
   "cell_type": "code",
   "execution_count": null,
   "metadata": {},
   "outputs": [],
   "source": [
    "differential_f(3)"
   ]
  },
  {
   "cell_type": "markdown",
   "metadata": {},
   "source": [
    "こうやって定義したdifferential_f関数を、関数 $f$の<b>導関数</b>といい、$f'$と書く。  \n",
    "この導関数を求める操作を<b>$f$を微分する(differential)</b>という"
   ]
  },
  {
   "cell_type": "markdown",
   "metadata": {},
   "source": [
    "### 微分の定義における数式と見比べてみる  \n",
    "\n",
    "### $$ f'(x) = \\lim_{b \\to x} \\frac{f(b)-f(x)}{b-x} $$  \n",
    "\n",
    "<b>関数の微分の数式は読めるようになっている！</b>"
   ]
  },
  {
   "cell_type": "code",
   "execution_count": null,
   "metadata": {},
   "outputs": [],
   "source": []
  }
 ],
 "metadata": {
  "celltoolbar": "Slideshow",
  "kernelspec": {
   "display_name": "Python 3",
   "language": "python",
   "name": "python3"
  },
  "language_info": {
   "codemirror_mode": {
    "name": "ipython",
    "version": 3
   },
   "file_extension": ".py",
   "mimetype": "text/x-python",
   "name": "python",
   "nbconvert_exporter": "python",
   "pygments_lexer": "ipython3",
   "version": "3.6.2"
  }
 },
 "nbformat": 4,
 "nbformat_minor": 2
}
