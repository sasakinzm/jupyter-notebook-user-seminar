{
 "cells": [
  {
   "cell_type": "markdown",
   "metadata": {},
   "source": [
    "# 積分をPythonで理解する\n",
    "---"
   ]
  },
  {
   "cell_type": "markdown",
   "metadata": {},
   "source": [
    "#### 具体例で考える  \n",
    "次のような関数を例にして考える  \n",
    "## $$ f(x) = -x^2 + 5$$"
   ]
  },
  {
   "cell_type": "code",
   "execution_count": null,
   "metadata": {},
   "outputs": [],
   "source": [
    "# 関数定義\n",
    "f = lambda x: -x**2 + 5 "
   ]
  },
  {
   "cell_type": "code",
   "execution_count": null,
   "metadata": {},
   "outputs": [],
   "source": [
    "# 先ほど使ったdrawf関数を再定義\n",
    "\n",
    "import numpy as np\n",
    "import matplotlib.pyplot as plt\n",
    "%matplotlib inline\n",
    "\n",
    "def drawf(n):\n",
    "    y = [f(x) for x in np.arange(0, n, 0.1)]\n",
    "    plt.plot(list(np.arange(0, n, 0.1)),y,'o-')\n",
    "    plt.grid()"
   ]
  },
  {
   "cell_type": "code",
   "execution_count": null,
   "metadata": {},
   "outputs": [],
   "source": [
    "drawf(2.3)"
   ]
  },
  {
   "cell_type": "markdown",
   "metadata": {},
   "source": [
    "0 ≦ x ≦ 2 の範囲が囲む面積を計算することを考える  \n",
    "つまり、下図のような範囲の面積を計算したい"
   ]
  },
  {
   "cell_type": "code",
   "execution_count": null,
   "metadata": {},
   "outputs": [],
   "source": [
    "x = np.arange(0, 2.1, 0.1)\n",
    "drawf(2.3)\n",
    "plt.fill_between(x, np.zeros(len(x)), f(x), facecolor='r', alpha=0.5)"
   ]
  },
  {
   "cell_type": "code",
   "execution_count": null,
   "metadata": {},
   "outputs": [],
   "source": [
    "# fの横軸をn個に等分割して、四角形を描写する draw_split_squares_f 関数を定義する\n",
    "\n",
    "def draw_split_squares_f(n):\n",
    "    x = np.arange(0, 2+(2/n), 2/n)\n",
    "    for i in range(len(x)-1):\n",
    "        section_i = [x[i], x[i+1]]\n",
    "        plt.fill_between(section_i, [0,0], [-x[i]**2 + 5, -x[i]**2 + 5], facecolor='r', alpha=0.5)"
   ]
  },
  {
   "cell_type": "code",
   "execution_count": null,
   "metadata": {},
   "outputs": [],
   "source": [
    "drawf(2.3)\n",
    "draw_split_squares_f(1)"
   ]
  },
  {
   "cell_type": "code",
   "execution_count": null,
   "metadata": {},
   "outputs": [],
   "source": [
    "# 四角形の面積（タテ×ヨコ）を計算するsquare_area関数を定義する\n",
    "\n",
    "def square_area(height, width):\n",
    "    return height * (width[1] - width[0])"
   ]
  },
  {
   "cell_type": "code",
   "execution_count": null,
   "metadata": {},
   "outputs": [],
   "source": [
    "# 次のような性質をもつ　split_square_area関数を定義する\n",
    "#     (i) 横軸をn個に等分割する\n",
    "#    (ii) 分割したそれぞれの領域で、縦の長さがfの値になる四角形の面積の合計を計算する\n",
    "\n",
    "def split_square_area(n):\n",
    "    drawf(2.3)\n",
    "    draw_split_squares_f(n)\n",
    "    widths = np.arange(0, 2+(2/n), 2/n)\n",
    "    result = 0\n",
    "    for i in widths[:-1]:\n",
    "        result += square_area(f(i), [i, i+(widths[1]-widths[0])])\n",
    "    print(\"四角形の合計面積:{0}\".format(result))"
   ]
  },
  {
   "cell_type": "code",
   "execution_count": null,
   "metadata": {
    "scrolled": true
   },
   "outputs": [],
   "source": [
    "split_square_area(1000)"
   ]
  },
  {
   "cell_type": "markdown",
   "metadata": {},
   "source": [
    "### 積分の定義における数式と見比べてみる  \n",
    "\n",
    "関数$f$の区間$[a,b]$をn個に分割する。  \n",
    "その分割した区間のi番目を$[x_{i}, x_{i+1}]$ と書くことにする。  \n",
    "\n",
    "関数$f$の区間$[a, b]$における<b>定積分</b>の定義は、ざっくり言うと次のようになる。\n",
    "\n",
    "### $$ \\int_{a}^{b} f(x) dx = \\lim_{n \\to \\infty} \\sum_{i=0}^n f(x_{i})(x_{i+1} - x_{i}) $$  \n",
    "\n",
    "\n",
    "<b>関数の積分の数式は読めるようになっている！</b>"
   ]
  }
 ],
 "metadata": {
  "celltoolbar": "Slideshow",
  "kernelspec": {
   "display_name": "Python 3",
   "language": "python",
   "name": "python3"
  },
  "language_info": {
   "codemirror_mode": {
    "name": "ipython",
    "version": 3
   },
   "file_extension": ".py",
   "mimetype": "text/x-python",
   "name": "python",
   "nbconvert_exporter": "python",
   "pygments_lexer": "ipython3",
   "version": "3.6.2"
  }
 },
 "nbformat": 4,
 "nbformat_minor": 2
}
